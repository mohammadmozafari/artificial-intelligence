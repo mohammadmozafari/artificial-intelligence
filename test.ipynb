{
 "nbformat": 4,
 "nbformat_minor": 2,
 "metadata": {
  "language_info": {
   "name": "python",
   "codemirror_mode": {
    "name": "ipython",
    "version": 3
   },
   "version": "3.7.3"
  },
  "orig_nbformat": 2,
  "file_extension": ".py",
  "mimetype": "text/x-python",
  "name": "python",
  "npconvert_exporter": "python",
  "pygments_lexer": "ipython3",
  "version": 3
 },
 "cells": [
  {
   "cell_type": "code",
   "execution_count": 7,
   "metadata": {},
   "outputs": [
    {
     "name": "stdout",
     "output_type": "stream",
     "text": "The autoreload extension is already loaded. To reload it, use:\n  %reload_ext autoreload\n"
    }
   ],
   "source": [
    "# config jupyter notebook for auto reload\n",
    "%load_ext autoreload\n",
    "%autoreload 2\n",
    "\n",
    "# imports\n",
    "import numpy as np\n",
    "import copy\n",
    "import midterm_project.p1a as p1a\n",
    "from itertools import chain, product\n",
    "from collections import deque"
   ]
  },
  {
   "cell_type": "code",
   "execution_count": 46,
   "metadata": {},
   "outputs": [
    {
     "name": "stdout",
     "output_type": "stream",
     "text": "True\n[[0 0 0 0]\n [1 1 1 1]\n [2 2 2 2]\n [3 3 3 3]\n [4 4 4 4]\n [5 5 5 5]] 6 4\n"
    }
   ],
   "source": [
    "s = np.array([[0, 0, 0, 0],\n",
    "                [1, 1, 1, 1],\n",
    "                [2, 2, 2, 2],\n",
    "                [3, 3, 3, 3],\n",
    "                [4, 4, 4, 4],\n",
    "                [5, 5, 5, 5]])\n",
    "\n",
    "\n",
    "o1 = p1a.Rubik(s)\n",
    "\n",
    "print(o1.state, o1.num_faces, o1.dim)\n"
   ]
  },
  {
   "cell_type": "code",
   "execution_count": 40,
   "metadata": {},
   "outputs": [
    {
     "name": "stdout",
     "output_type": "stream",
     "text": "[[0 0 0 0]\n [1 1 1 1]\n [2 2 2 2]\n [3 3 3 3]\n [4 4 4 4]\n [5 5 5 5]]\n[[0 0 0 0]\n [1 1 1 1]\n [2 2 2 2]\n [3 3 3 3]\n [4 4 4 4]\n [5 5 5 5]]\n"
    }
   ],
   "source": [
    "new_s1 = copy.deepcopy(o1.state)\n",
    "o1.rotate_surface(new_s1, 1, 1)\n",
    "print(o1.state)\n",
    "print(new_s1)"
   ]
  },
  {
   "cell_type": "code",
   "execution_count": 39,
   "metadata": {},
   "outputs": [
    {
     "name": "stdout",
     "output_type": "stream",
     "text": "[[0 0 0 0]\n [1 1 1 1]\n [2 2 2 2]\n [3 3 3 3]\n [4 4 4 4]\n [5 5 5 5]]\n[[2 0 0 0]\n [1 3 1 1]\n [2 2 0 2]\n [3 3 3 1]\n [4 4 4 4]\n [5 5 5 5]]\n"
    }
   ],
   "source": [
    "o1.rotate_perimeter(new_s1, ((0, 1, 2, 3), (0, 1, 2, 3)), 2)\n",
    "print(o1.state)\n",
    "print(new_s1)"
   ]
  },
  {
   "cell_type": "code",
   "execution_count": 52,
   "metadata": {},
   "outputs": [
    {
     "name": "stdout",
     "output_type": "stream",
     "text": "[[0 0 1 1]\n [1 4 2 2]\n [2 2 3 0]\n [0 3 5 5]\n [3 4 4 3]\n [4 1 5 5]]\n"
    }
   ],
   "source": [
    "x = o1.move(2, True).move(4, False).move(1, True)\n",
    "print(x.state)"
   ]
  },
  {
   "cell_type": "code",
   "execution_count": 14,
   "metadata": {},
   "outputs": [
    {
     "name": "stdout",
     "output_type": "stream",
     "text": "move 1: face 2 clockwise\nmove 2: face 1 counter clockwise\nmove 3: face 3 counter clockwise\nmove 4: face 2 clockwise\nmove 5: face 2 clockwise\n\nsolution found with 5 moves\nnumber of nodes generated: 72605\nnumber of nodes expanded: 72605\nmaximum number of nodes in memory: 5\n"
    }
   ],
   "source": [
    "result = p1b.bidirectional_search(x)\n",
    "p1a.show_solution(result)"
   ]
  },
  {
   "cell_type": "code",
   "execution_count": 1,
   "metadata": {},
   "outputs": [],
   "source": [
    "a = [2, 3]\n",
    "b = [5, 6]\n",
    "a.append(b)\n",
    "print(a)"
   ]
  },
  {
   "cell_type": "code",
   "execution_count": 5,
   "metadata": {},
   "outputs": [
    {
     "name": "stdout",
     "output_type": "stream",
     "text": "False\n"
    }
   ],
   "source": [
    "q = deque()\n",
    "a.append(2)\n",
    "a.append(3)\n",
    "a.append(4)\n",
    "print(5 in a)"
   ]
  },
  {
   "cell_type": "code",
   "execution_count": null,
   "metadata": {},
   "outputs": [],
   "source": []
  },
  {
   "cell_type": "code",
   "execution_count": 1,
   "metadata": {},
   "outputs": [
    {
     "name": "stdout",
     "output_type": "stream",
     "text": "True\n"
    }
   ],
   "source": [
    "a = [[1, 2], [3, 4]]\n",
    "b = [[1, 2], [3, 4]]\n",
    "print(a == b)"
   ]
  },
  {
   "cell_type": "code",
   "execution_count": 20,
   "metadata": {},
   "outputs": [],
   "source": [
    "q1 = deque()\n",
    "visited = set()\n",
    "p1b.add_goals_to_queue(q1, visited)"
   ]
  },
  {
   "cell_type": "code",
   "execution_count": null,
   "metadata": {},
   "outputs": [],
   "source": []
  },
  {
   "cell_type": "code",
   "execution_count": 1,
   "metadata": {},
   "outputs": [
    {
     "ename": "SyntaxError",
     "evalue": "invalid syntax (<ipython-input-1-687b3c354742>, line 1)",
     "output_type": "error",
     "traceback": [
      "\u001b[1;36m  File \u001b[1;32m\"<ipython-input-1-687b3c354742>\"\u001b[1;36m, line \u001b[1;32m1\u001b[0m\n\u001b[1;33m    x = [(i for i in range(5), j for j in range(3))]\u001b[0m\n\u001b[1;37m                             ^\u001b[0m\n\u001b[1;31mSyntaxError\u001b[0m\u001b[1;31m:\u001b[0m invalid syntax\n"
     ]
    }
   ],
   "source": [
    "x = [(i for i in range(5), j for j in range(3))]\n",
    "print(x)"
   ]
  },
  {
   "cell_type": "code",
   "execution_count": null,
   "metadata": {},
   "outputs": [],
   "source": []
  },
  {
   "cell_type": "code",
   "execution_count": 3,
   "metadata": {},
   "outputs": [
    {
     "name": "stdout",
     "output_type": "stream",
     "text": "[(1, 3), (1, 4), (2, 3), (2, 4)]\n"
    }
   ],
   "source": [
    "from itertools import *\n",
    "print(list(product((1, 2), (3, 4)))) "
   ]
  },
  {
   "cell_type": "code",
   "execution_count": null,
   "metadata": {},
   "outputs": [],
   "source": []
  },
  {
   "cell_type": "code",
   "execution_count": 22,
   "metadata": {},
   "outputs": [
    {
     "name": "stdout",
     "output_type": "stream",
     "text": "1\n2\n5\n4\n"
    }
   ],
   "source": [
    "ww = deque()\n",
    "ww.append(1)\n",
    "ww.append(2)\n",
    "ww.append(5)\n",
    "ww.append(4)\n",
    "for i in ww:\n",
    "    print(i)"
   ]
  }
 ]
}