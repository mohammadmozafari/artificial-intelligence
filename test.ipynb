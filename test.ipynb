{
 "nbformat": 4,
 "nbformat_minor": 2,
 "metadata": {
  "language_info": {
   "name": "python",
   "codemirror_mode": {
    "name": "ipython",
    "version": 3
   },
   "version": "3.7.3"
  },
  "orig_nbformat": 2,
  "file_extension": ".py",
  "mimetype": "text/x-python",
  "name": "python",
  "npconvert_exporter": "python",
  "pygments_lexer": "ipython3",
  "version": 3
 },
 "cells": [
  {
   "cell_type": "code",
   "execution_count": 20,
   "metadata": {},
   "outputs": [
    {
     "name": "stdout",
     "output_type": "stream",
     "text": "The autoreload extension is already loaded. To reload it, use:\n  %reload_ext autoreload\n"
    }
   ],
   "source": [
    "# config jupyter notebook for auto reload\n",
    "%load_ext autoreload\n",
    "%autoreload 2\n",
    "\n",
    "# imports\n",
    "import numpy as np\n",
    "import midterm_project.p1a as p1a\n",
    "import copy\n",
    "from itertools import chain"
   ]
  },
  {
   "cell_type": "code",
   "execution_count": 21,
   "metadata": {},
   "outputs": [
    {
     "name": "stdout",
     "output_type": "stream",
     "text": "[[[3, 3], [1, 1]], [[0, 2], [4, 5]], [[0, 0], [4, 4]], [[5, 2], [5, 2]], [[3, 1], [1, 3]], [[2, 0], [5, 4]]] 6 2\n[[[0, 0], [0, 0]], [[1, 1], [1, 1]], [[2, 2], [2, 2]], [[3, 3], [3, 3]], [[4, 4], [4, 4]], [[5, 5], [5, 5]]] 6 2\n"
    }
   ],
   "source": [
    "s1 = [[[3, 3], [1, 1]],  [[0, 2], [4, 5]], [[0, 0], [4, 4]], [[5, 2], [5, 2]], [[3, 1], [1, 3]], [[2, 0], [5, 4]]]\n",
    "s2 = [[[0, 0], [0, 0]],  [[1, 1], [1, 1]], [[2, 2], [2, 2]], [[3, 3], [3, 3]], [[4, 4], [4, 4]], [[5, 5], [5, 5]]]\n",
    "s3 = [[[0, 0], [0, 0]],  [[1, 1], [1, 1]], [[2, 2], [2, 2]], [[0, 0], [0, 0]], [[4, 4], [4, 4]], [[5, 5], [5, 5]]]\n",
    "\n",
    "\n",
    "o1 = p1a.Rubik(s1)\n",
    "o2 = p1a.Rubik(s2)\n",
    "\n",
    "print(o1.state, o1.num_faces, o1.dim)\n",
    "print(o2.state, o2.num_faces, o2.dim)\n"
   ]
  },
  {
   "cell_type": "code",
   "execution_count": 22,
   "metadata": {},
   "outputs": [
    {
     "name": "stdout",
     "output_type": "stream",
     "text": "[[[3, 3], [1, 1]], [[0, 2], [4, 5]], [[0, 0], [4, 4]], [[5, 2], [5, 2]], [[3, 1], [1, 3]], [[2, 0], [5, 4]]]\n[[[3, 3], [1, 1]], [[4, 0], [5, 2]], [[0, 0], [4, 4]], [[5, 2], [5, 2]], [[3, 1], [1, 3]], [[2, 0], [5, 4]]]\n"
    }
   ],
   "source": [
    "new_s1 = copy.deepcopy(o1.state)\n",
    "o1.rotate_surface(new_s1, 1, 1)\n",
    "print(o1.state)\n",
    "print(new_s1)"
   ]
  },
  {
   "cell_type": "code",
   "execution_count": 23,
   "metadata": {},
   "outputs": [
    {
     "name": "stdout",
     "output_type": "stream",
     "text": "[[[3, 3], [1, 1]], [[0, 2], [4, 5]], [[0, 0], [4, 4]], [[5, 2], [5, 2]], [[3, 1], [1, 3]], [[2, 0], [5, 4]]]\n[[[3, 3], [1, 1]], [[4, 0], [5, 2]], [[0, 0], [4, 4]], [[5, 2], [5, 2]], [[3, 4], [1, 1]], [[2, 3], [5, 0]]]\n"
    }
   ],
   "source": [
    "o1.rotate_perimeter(new_s1, [(4, 0, 1), (4, 1, 1), (5, 0, 1), (5, 1, 1)], 1)\n",
    "print(o1.state)\n",
    "print(new_s1)"
   ]
  },
  {
   "cell_type": "code",
   "execution_count": 48,
   "metadata": {},
   "outputs": [
    {
     "name": "stdout",
     "output_type": "stream",
     "text": "[[[1, 3], [1, 2]], [[4, 4], [4, 1]], [[2, 3], [5, 4]], [[0, 5], [2, 0]], [[0, 3], [3, 1]], [[5, 2], [5, 0]]]\n"
    }
   ],
   "source": [
    "x = o2.move(0, True).move(5, False).move(3, True).move(2, True)\n",
    "print(x.state)"
   ]
  },
  {
   "cell_type": "code",
   "execution_count": 49,
   "metadata": {},
   "outputs": [
    {
     "name": "stdout",
     "output_type": "stream",
     "text": "[(2, False), (1, False), (0, True), (1, False)]\n"
    }
   ],
   "source": [
    "result = p1a.solve_with_IDS(x, 2, 5)\n",
    "print(result)"
   ]
  },
  {
   "cell_type": "code",
   "execution_count": null,
   "metadata": {},
   "outputs": [],
   "source": []
  }
 ]
}