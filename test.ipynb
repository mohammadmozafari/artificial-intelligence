{
 "nbformat": 4,
 "nbformat_minor": 2,
 "metadata": {
  "language_info": {
   "name": "python",
   "codemirror_mode": {
    "name": "ipython",
    "version": 3
   },
   "version": "3.7.3"
  },
  "orig_nbformat": 2,
  "file_extension": ".py",
  "mimetype": "text/x-python",
  "name": "python",
  "npconvert_exporter": "python",
  "pygments_lexer": "ipython3",
  "version": 3
 },
 "cells": [
  {
   "cell_type": "code",
   "execution_count": 1,
   "metadata": {},
   "outputs": [],
   "source": [
    "# config jupyter notebook for auto reload\n",
    "%load_ext autoreload\n",
    "%autoreload 2\n",
    "\n",
    "# imports\n",
    "import numpy as np\n",
    "import midterm_project.p1a as p1a\n",
    "import copy"
   ]
  },
  {
   "cell_type": "code",
   "execution_count": 10,
   "metadata": {},
   "outputs": [
    {
     "name": "stdout",
     "output_type": "stream",
     "text": "[[[4, 4], [2, 2]], [[1, 3], [5, 6]], [[1, 1], [5, 5]], [[6, 3], [6, 3]], [[4, 2], [2, 4]], [[3, 1], [6, 5]]] 6 2\n[[[1, 1], [1, 1]], [[2, 2], [2, 2]], [[3, 3], [3, 3]], [[4, 4], [4, 4]], [[5, 5], [5, 5]], [[6, 6], [6, 6]]] 6 2\n"
    }
   ],
   "source": [
    "s1 = [[[4, 4], [2, 2]],  [[1, 3], [5, 6]], [[1, 1], [5, 5]], [[6, 3], [6, 3]], [[4, 2], [2, 4]], [[3, 1], [6, 5]]]\n",
    "s2 = [[[1, 1], [1, 1]],  [[2, 2], [2, 2]], [[3, 3], [3, 3]], [[4, 4], [4, 4]], [[5, 5], [5, 5]], [[6, 6], [6, 6]]]\n",
    "\n",
    "\n",
    "o1 = p1a.Rubik(s1)\n",
    "o2 = p1a.Rubik(s2)\n",
    "\n",
    "print(o1.state, o1.num_faces, o1.dim)\n",
    "print(o2.state, o2.num_faces, o2.dim)\n"
   ]
  },
  {
   "cell_type": "code",
   "execution_count": 6,
   "metadata": {},
   "outputs": [
    {
     "name": "stdout",
     "output_type": "stream",
     "text": "[[[4, 4], [2, 2]], [[1, 3], [5, 6]], [[1, 1], [5, 5]], [[6, 3], [6, 3]], [[4, 2], [2, 4]], [[3, 1], [6, 5]]]\n[[[4, 4], [2, 2]], [[5, 1], [6, 3]], [[1, 1], [5, 5]], [[6, 3], [6, 3]], [[4, 2], [2, 4]], [[3, 1], [6, 5]]]\n"
    }
   ],
   "source": [
    "new_s1 = copy.deepcopy(o1.state)\n",
    "o1.rotate_surface(new_s1, 1, 1)\n",
    "print(o1.state)\n",
    "print(new_s1)"
   ]
  },
  {
   "cell_type": "code",
   "execution_count": 7,
   "metadata": {},
   "outputs": [
    {
     "name": "stdout",
     "output_type": "stream",
     "text": "[[[4, 4], [2, 2]], [[1, 3], [5, 6]], [[1, 1], [5, 5]], [[6, 3], [6, 3]], [[4, 2], [2, 4]], [[3, 1], [6, 5]]]\n[[[4, 4], [2, 2]], [[5, 1], [6, 3]], [[1, 1], [5, 5]], [[6, 3], [6, 3]], [[4, 5], [2, 2]], [[3, 4], [6, 1]]]\n"
    }
   ],
   "source": [
    "o1.rotate_perimeter(new_s1, [(4, 0, 1), (4, 1, 1), (5, 0, 1), (5, 1, 1)], 1)\n",
    "print(o1.state)\n",
    "print(new_s1)"
   ]
  },
  {
   "cell_type": "code",
   "execution_count": 15,
   "metadata": {},
   "outputs": [
    {
     "name": "stdout",
     "output_type": "stream",
     "text": "[[[1, 3], [1, 3]], [[2, 2], [2, 2]], [[3, 5], [3, 5]], [[4, 4], [4, 4]], [[5, 6], [5, 6]], [[6, 1], [6, 1]]]\n"
    }
   ],
   "source": [
    "m2 = o2.rotate([(5, 1, 1), (5, 0, 1), (4, 1, 1), (4, 0, 1), (2, 1, 1), (2, 0, 1), (0, 1, 1), (0, 0, 1)], 3, 1)\n",
    "print(m2.state)"
   ]
  },
  {
   "cell_type": "code",
   "execution_count": null,
   "metadata": {},
   "outputs": [],
   "source": []
  }
 ]
}