{
 "nbformat": 4,
 "nbformat_minor": 2,
 "metadata": {
  "language_info": {
   "name": "python",
   "codemirror_mode": {
    "name": "ipython",
    "version": 3
   }
  },
  "orig_nbformat": 2,
  "file_extension": ".py",
  "mimetype": "text/x-python",
  "name": "python",
  "npconvert_exporter": "python",
  "pygments_lexer": "ipython3",
  "version": 3
 },
 "cells": [
  {
   "cell_type": "code",
   "execution_count": 23,
   "metadata": {},
   "outputs": [
    {
     "name": "stdout",
     "output_type": "stream",
     "text": "The autoreload extension is already loaded. To reload it, use:\n  %reload_ext autoreload\n"
    }
   ],
   "source": [
    "# config jupyter notebook for auto reload\n",
    "%load_ext autoreload\n",
    "%autoreload 2\n",
    "\n",
    "# imports\n",
    "import p1a"
   ]
  },
  {
   "cell_type": "code",
   "execution_count": 32,
   "metadata": {},
   "outputs": [
    {
     "data": {
      "text/plain": "'face 1: 4, 4, 2, 2\\nface 2: 1, 3, 5, 6\\nface 3: 1, 1, 5, 5\\nface 4: 6, 3, 6, 3\\nface 5: 4, 2, 2, 4\\nface 6: 3, 1, 6, 5\\n'"
     },
     "execution_count": 32,
     "metadata": {},
     "output_type": "execute_result"
    }
   ],
   "source": [
    "faces = [[4, 4, 2, 2],  [1, 3, 5, 6], [1, 1, 5, 5], [6, 3, 6, 3], [4, 2, 2, 4], [3, 1, 6, 5]]\n",
    "o1 = p1a.Rubik(faces)\n",
    "print(o1.get_current_state())\n"
   ]
  },
  {
   "cell_type": "code",
   "execution_count": null,
   "metadata": {},
   "outputs": [],
   "source": []
  }
 ]
}