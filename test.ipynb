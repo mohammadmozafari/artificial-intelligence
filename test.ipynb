{
 "nbformat": 4,
 "nbformat_minor": 2,
 "metadata": {
  "language_info": {
   "name": "python",
   "codemirror_mode": {
    "name": "ipython",
    "version": 3
   },
   "version": "3.7.3"
  },
  "orig_nbformat": 2,
  "file_extension": ".py",
  "mimetype": "text/x-python",
  "name": "python",
  "npconvert_exporter": "python",
  "pygments_lexer": "ipython3",
  "version": 3
 },
 "cells": [
  {
   "cell_type": "code",
   "execution_count": 3,
   "metadata": {},
   "outputs": [],
   "source": [
    "# config jupyter notebook for auto reload\n",
    "%load_ext autoreload\n",
    "%autoreload 2\n",
    "\n",
    "# imports\n",
    "import numpy as np\n",
    "import midterm_project.p1a as p1a\n",
    "import copy\n",
    "from itertools import chain\n",
    "from collections import deque"
   ]
  },
  {
   "cell_type": "code",
   "execution_count": 2,
   "metadata": {},
   "outputs": [
    {
     "name": "stdout",
     "output_type": "stream",
     "text": "[[[3, 3], [1, 1]], [[0, 2], [4, 5]], [[0, 0], [4, 4]], [[5, 2], [5, 2]], [[3, 1], [1, 3]], [[2, 0], [5, 4]]] 6 2\n[[[0, 0], [0, 0]], [[1, 1], [1, 1]], [[2, 2], [2, 2]], [[3, 3], [3, 3]], [[4, 4], [4, 4]], [[5, 5], [5, 5]]] 6 2\n"
    }
   ],
   "source": [
    "s1 = [[[3, 3], [1, 1]],  [[0, 2], [4, 5]], [[0, 0], [4, 4]], [[5, 2], [5, 2]], [[3, 1], [1, 3]], [[2, 0], [5, 4]]]\n",
    "s2 = [[[0, 0], [0, 0]],  [[1, 1], [1, 1]], [[2, 2], [2, 2]], [[3, 3], [3, 3]], [[4, 4], [4, 4]], [[5, 5], [5, 5]]]\n",
    "s3 = [[[0, 0], [0, 0]],  [[1, 1], [1, 1]], [[2, 2], [2, 2]], [[0, 0], [0, 0]], [[4, 4], [4, 4]], [[5, 5], [5, 5]]]\n",
    "\n",
    "\n",
    "o1 = p1a.Rubik(s1)\n",
    "o2 = p1a.Rubik(s2)\n",
    "\n",
    "print(o1.state, o1.num_faces, o1.dim)\n",
    "print(o2.state, o2.num_faces, o2.dim)\n"
   ]
  },
  {
   "cell_type": "code",
   "execution_count": 3,
   "metadata": {},
   "outputs": [
    {
     "name": "stdout",
     "output_type": "stream",
     "text": "[[[3, 3], [1, 1]], [[0, 2], [4, 5]], [[0, 0], [4, 4]], [[5, 2], [5, 2]], [[3, 1], [1, 3]], [[2, 0], [5, 4]]]\n[[[3, 3], [1, 1]], [[4, 0], [5, 2]], [[0, 0], [4, 4]], [[5, 2], [5, 2]], [[3, 1], [1, 3]], [[2, 0], [5, 4]]]\n"
    }
   ],
   "source": [
    "new_s1 = copy.deepcopy(o1.state)\n",
    "o1.rotate_surface(new_s1, 1, 1)\n",
    "print(o1.state)\n",
    "print(new_s1)"
   ]
  },
  {
   "cell_type": "code",
   "execution_count": 4,
   "metadata": {},
   "outputs": [
    {
     "name": "stdout",
     "output_type": "stream",
     "text": "[[[3, 3], [1, 1]], [[0, 2], [4, 5]], [[0, 0], [4, 4]], [[5, 2], [5, 2]], [[3, 1], [1, 3]], [[2, 0], [5, 4]]]\n[[[3, 3], [1, 1]], [[4, 0], [5, 2]], [[0, 0], [4, 4]], [[5, 2], [5, 2]], [[3, 4], [1, 1]], [[2, 3], [5, 0]]]\n"
    }
   ],
   "source": [
    "o1.rotate_perimeter(new_s1, [(4, 0, 1), (4, 1, 1), (5, 0, 1), (5, 1, 1)], 1)\n",
    "print(o1.state)\n",
    "print(new_s1)"
   ]
  },
  {
   "cell_type": "code",
   "execution_count": 13,
   "metadata": {},
   "outputs": [
    {
     "name": "stdout",
     "output_type": "stream",
     "text": "[[[3, 3], [4, 1]], [[0, 3], [0, 5]], [[2, 2], [1, 4]], [[0, 4], [1, 2]], [[4, 2], [1, 3]], [[5, 0], [5, 5]]]\n"
    }
   ],
   "source": [
    "x = o2.move(2, True).move(2, True).move(4, True).move(5, True).move(3, False)\n",
    "print(x.state)"
   ]
  },
  {
   "cell_type": "code",
   "execution_count": 14,
   "metadata": {},
   "outputs": [
    {
     "name": "stdout",
     "output_type": "stream",
     "text": "move 1: face 2 clockwise\nmove 2: face 1 counter clockwise\nmove 3: face 3 counter clockwise\nmove 4: face 2 clockwise\nmove 5: face 2 clockwise\n\nsolution found with 5 moves\nnumber of nodes generated: 72605\nnumber of nodes expanded: 72605\nmaximum number of nodes in memory: 5\n"
    }
   ],
   "source": [
    "result = p1a.solve_with_IDS(x, 2, 6)\n",
    "p1a.show_solution(result)"
   ]
  },
  {
   "cell_type": "code",
   "execution_count": 1,
   "metadata": {},
   "outputs": [],
   "source": [
    "a = [2, 3]\n",
    "b = [5, 6]\n",
    "a.append(b)\n",
    "print(a)"
   ]
  },
  {
   "cell_type": "code",
   "execution_count": 5,
   "metadata": {},
   "outputs": [
    {
     "name": "stdout",
     "output_type": "stream",
     "text": "False\n"
    }
   ],
   "source": [
    "q = deque()\n",
    "a.append(2)\n",
    "a.append(3)\n",
    "a.append(4)\n",
    "print(5 in a)"
   ]
  },
  {
   "cell_type": "code",
   "execution_count": null,
   "metadata": {},
   "outputs": [],
   "source": []
  }
 ]
}